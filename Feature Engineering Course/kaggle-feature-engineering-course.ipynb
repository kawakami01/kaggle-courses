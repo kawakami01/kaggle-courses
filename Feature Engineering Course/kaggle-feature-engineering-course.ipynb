{
 "cells": [
  {
   "attachments": {},
   "cell_type": "markdown",
   "metadata": {},
   "source": [
    "# What Is Feature Engineering"
   ]
  },
  {
   "attachments": {},
   "cell_type": "markdown",
   "metadata": {},
   "source": [
    "## Welcome to Feature Engineering"
   ]
  },
  {
   "attachments": {},
   "cell_type": "markdown",
   "metadata": {},
   "source": [
    "Nesse curso veremos como:\n",
    "- Determinar quais *features* são as mais importantes com informação mútua.\n",
    "- Inventar novas *features* em vários domínios de problemas do mundo real.\n",
    "- Fazer *encode* de categóricas de alta cardinalidade com *target encoding*.\n",
    "- Criar *features* de seguimento com *k-means clustering*.\n",
    "- Decompor a variação de *datasets* em *features* com análise dos principais componentes."
   ]
  },
  {
   "attachments": {},
   "cell_type": "markdown",
   "metadata": {},
   "source": [
    "## The Goal of Feature Engineering\n",
    "\n",
    "O objetivo da engenharia de recursos é simplesmente tornar seus dados mais adequados ao problema em questão.\n",
    "\n",
    "Você pode executar a engenharia de recursos para:\n",
    "- Melhorar o desempenho preditivo de um modelo;\n",
    "- Reduzir as necessidades computacionais ou de dados;\n",
    "- Melhorar a interpretabilidade dos resultados;"
   ]
  },
  {
   "attachments": {},
   "cell_type": "markdown",
   "metadata": {},
   "source": [
    "## A Guiding Principle of Feature Engineering\n",
    "Para que uma *feature* seja útil, você deve ter um relacionamento com o *target* que seu modelo seja capaz de aprender. Os modelos lineares, por exemplo, só são capazes de aprender relações lineares. Portanto, ao usar um modelo linear, seu objetivo é transformar as *features* para tornar linear seu relacionamento com o *target*.\n",
    "\n",
    "A ideia principal aqui é a transformação que você aplica a uma *feature* torna-se, em essência, parte do próprio modelo. Digamos que você esteja tentanto prever o preço de lotes quadrados de terreno a partir de um lado. Ajustar um modelo linear diretamento ao comprimento fornece resultados insatisfatórios: a relação não é linear.\n",
    "\n",
    "<div align=\"center\">\n",
    "\n",
    "![Gráfico Linear Price x Length](linear-price-X-length.png)\n",
    "\n",
    "Um modelo linear se ajusta mal apenas com a *feature* `Length`.\n",
    "\n",
    "</div>\n",
    "\n",
    "Se elevamos `Length` ao quadrado para obter a *feature* `Area`, no entanto, criamos uma relação linear. Adicionando `Area` ao conjunto de *features* significa que este modelo linear agora pode ajustar uma parábola.\n",
    "\n",
    "<div align=\"center\">\n",
    "\n",
    "![Gráfico Linear Price x Length](linear-prices.png)\n",
    "\n",
    "**Direita:** O ajuste á `Area` é muito melhor. **Esquerda:** O que torna o ajuste ao comprimento melhor também.\n",
    "\n",
    "</div>\n",
    "\n",
    "Isso deve mostrar a você por que pode haver um retorno tão alto do tempo investido em *feature engineering*. Quaisquer relacionamentos que seu modelo não possa aprender, você pode fornecer a si mesmo por meio de transformações. Ao desenvolver seu conjunto de *features*, pense em quais informações seu modelo poderia usar para obter melhor desempenho."
   ]
  },
  {
   "attachments": {},
   "cell_type": "markdown",
   "metadata": {},
   "source": []
  }
 ],
 "metadata": {
  "language_info": {
   "name": "python"
  },
  "orig_nbformat": 4
 },
 "nbformat": 4,
 "nbformat_minor": 2
}
